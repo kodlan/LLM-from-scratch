{
 "cells": [
  {
   "metadata": {
    "collapsed": true
   },
   "cell_type": "markdown",
   "source": [
    "### Read file content and split into words\n",
    "**Try reading file content:**"
   ],
   "id": "f3e3ecf6d39a64ef"
  },
  {
   "metadata": {
    "ExecuteTime": {
     "end_time": "2025-10-26T11:18:14.002614Z",
     "start_time": "2025-10-26T11:18:13.997501Z"
    }
   },
   "cell_type": "code",
   "source": [
    "with open(\"sample_text.txt\", \"r\", encoding=\"utf-8\") as f:\n",
    "    raw_text = f.read()\n",
    "print(\"Total number of characters:\", len(raw_text))\n",
    "print(raw_text[:99])"
   ],
   "id": "19109bd8ea9494b2",
   "outputs": [
    {
     "name": "stdout",
     "output_type": "stream",
     "text": [
      "Total number of characters: 20479\n",
      "I HAD always thought Jack Gisburn rather a cheap genius--though a good fellow enough--so it was no \n"
     ]
    }
   ],
   "execution_count": 1
  },
  {
   "metadata": {},
   "cell_type": "markdown",
   "source": "**Split text on whitespace, comman and period characters:**",
   "id": "9e409096566017e2"
  },
  {
   "metadata": {
    "ExecuteTime": {
     "end_time": "2025-10-26T11:25:08.412436Z",
     "start_time": "2025-10-26T11:25:08.405687Z"
    }
   },
   "cell_type": "code",
   "source": [
    "import re\n",
    "\n",
    "preprocessed = re.split(r'([,.:;?_!\"()\\']|--|\\s)', raw_text)\n",
    "# remove redundant whitespaces\n",
    "preprocessed = [item for item in preprocessed if item.strip()]\n",
    "\n",
    "print (preprocessed[:30])"
   ],
   "id": "e981fb2332549cbd",
   "outputs": [
    {
     "name": "stdout",
     "output_type": "stream",
     "text": [
      "['I', 'HAD', 'always', 'thought', 'Jack', 'Gisburn', 'rather', 'a', 'cheap', 'genius', '--', 'though', 'a', 'good', 'fellow', 'enough', '--', 'so', 'it', 'was', 'no', 'great', 'surprise', 'to', 'me', 'to', 'hear', 'that', ',', 'in']\n"
     ]
    }
   ],
   "execution_count": 8
  },
  {
   "metadata": {},
   "cell_type": "markdown",
   "source": [
    "### Convert tokens into token IDs\n",
    "**Create a vocabulary**"
   ],
   "id": "400f1d84938093b2"
  },
  {
   "metadata": {
    "ExecuteTime": {
     "end_time": "2025-10-26T12:01:48.579238Z",
     "start_time": "2025-10-26T12:01:48.573165Z"
    }
   },
   "cell_type": "code",
   "source": [
    "all_tokens = sorted(list(set(preprocessed)))\n",
    "\n",
    "all_tokens.extend([ \"<|endoftext|>\", \"<|unk|>\" ])\n",
    "\n",
    "vacab_size = len(all_tokens)\n",
    "print (vacab_size)"
   ],
   "id": "675068a475a2b19d",
   "outputs": [
    {
     "name": "stdout",
     "output_type": "stream",
     "text": [
      "1132\n"
     ]
    }
   ],
   "execution_count": 23
  },
  {
   "metadata": {
    "ExecuteTime": {
     "end_time": "2025-10-26T12:02:23.081157Z",
     "start_time": "2025-10-26T12:02:23.072913Z"
    }
   },
   "cell_type": "code",
   "source": [
    "vocab = { token:integer for integer, token in enumerate(all_tokens) }\n",
    "for i, item in enumerate(vocab.items()):\n",
    "    print (item)\n",
    "    if i >= 20:\n",
    "        break"
   ],
   "id": "de96b741d8788901",
   "outputs": [
    {
     "name": "stdout",
     "output_type": "stream",
     "text": [
      "('!', 0)\n",
      "('\"', 1)\n",
      "(\"'\", 2)\n",
      "('(', 3)\n",
      "(')', 4)\n",
      "(',', 5)\n",
      "('--', 6)\n",
      "('.', 7)\n",
      "(':', 8)\n",
      "(';', 9)\n",
      "('?', 10)\n",
      "('A', 11)\n",
      "('Ah', 12)\n",
      "('Among', 13)\n",
      "('And', 14)\n",
      "('Are', 15)\n",
      "('Arrt', 16)\n",
      "('As', 17)\n",
      "('At', 18)\n",
      "('Be', 19)\n",
      "('Begin', 20)\n"
     ]
    }
   ],
   "execution_count": 25
  },
  {
   "metadata": {
    "ExecuteTime": {
     "end_time": "2025-10-26T12:04:47.877409Z",
     "start_time": "2025-10-26T12:04:47.873603Z"
    }
   },
   "cell_type": "code",
   "source": [
    "for i, item in enumerate(list(vocab.items())[-5:]):\n",
    "    print (item)"
   ],
   "id": "3b3d9e8de3b5fe15",
   "outputs": [
    {
     "name": "stdout",
     "output_type": "stream",
     "text": [
      "('younger', 1127)\n",
      "('your', 1128)\n",
      "('yourself', 1129)\n",
      "('<|endoftext|>', 1130)\n",
      "('<|unk|>', 1131)\n"
     ]
    }
   ],
   "execution_count": 28
  },
  {
   "metadata": {},
   "cell_type": "markdown",
   "source": "**Implement a simple text tokenizer**",
   "id": "bf8da1dba9b9bdb5"
  },
  {
   "metadata": {
    "ExecuteTime": {
     "end_time": "2025-10-26T12:04:49.022858Z",
     "start_time": "2025-10-26T12:04:49.014931Z"
    }
   },
   "cell_type": "code",
   "source": [
    "class SimpleTokenizerV1:\n",
    "    def __init__(self, vocab):\n",
    "        self.str_to_int = vocab\n",
    "        # create an inverse vocabulry that maps token ids back to the original text tokens\n",
    "        self.int_to_str = { i:s for s, i in vocab.items() }\n",
    "\n",
    "    def encode(self, text):\n",
    "        preprocessed = re.split(r'([,.:;?_!\"()\\']|--|\\s)', text)\n",
    "        # process input text into token ids\n",
    "        preprocessed = [ item.strip() for item in preprocessed if item.strip() ]\n",
    "        ids = [ self.str_to_int[s] for s in preprocessed ]\n",
    "        return ids\n",
    "\n",
    "    def decode(self, ids):\n",
    "        # convert token ids back into text\n",
    "        text = \" \".join([ self.int_to_str[i] for i in ids ])\n",
    "        # remove spaces before the specified punctuation\n",
    "        text = re.sub(r'\\s+([,.?!\"()\\'])', r'\\1', text)\n",
    "        return text\n"
   ],
   "id": "4f8163088675ad60",
   "outputs": [],
   "execution_count": 29
  },
  {
   "metadata": {},
   "cell_type": "markdown",
   "source": "**Test the tokenizer**",
   "id": "e06b6b9fc635d16"
  },
  {
   "metadata": {
    "ExecuteTime": {
     "end_time": "2025-10-26T12:04:49.886262Z",
     "start_time": "2025-10-26T12:04:49.882673Z"
    }
   },
   "cell_type": "code",
   "source": [
    "tokenizer = SimpleTokenizerV1(vocab)\n",
    "text = \"\"\"\"It's the last he painted, you know,\"\n",
    "       Mrs. Gisburn said with pardonable pride.\"\"\"\n",
    "ids = tokenizer.encode(text)\n",
    "print (ids)"
   ],
   "id": "4897e0ef37422051",
   "outputs": [
    {
     "name": "stdout",
     "output_type": "stream",
     "text": [
      "[1, 56, 2, 850, 988, 602, 533, 746, 5, 1126, 596, 5, 1, 67, 7, 38, 851, 1108, 754, 793, 7]\n"
     ]
    }
   ],
   "execution_count": 30
  },
  {
   "metadata": {
    "ExecuteTime": {
     "end_time": "2025-10-26T12:04:50.874682Z",
     "start_time": "2025-10-26T12:04:50.872461Z"
    }
   },
   "cell_type": "code",
   "source": "",
   "id": "a70ce19735161e80",
   "outputs": [],
   "execution_count": null
  },
  {
   "metadata": {
    "ExecuteTime": {
     "end_time": "2025-10-26T11:59:07.919536Z",
     "start_time": "2025-10-26T11:59:07.914060Z"
    }
   },
   "cell_type": "markdown",
   "source": "**Turn the ids back to text**",
   "id": "7af4113a8e5b3cbe"
  },
  {
   "metadata": {
    "ExecuteTime": {
     "end_time": "2025-10-26T12:04:51.670530Z",
     "start_time": "2025-10-26T12:04:51.666850Z"
    }
   },
   "cell_type": "code",
   "source": "print (tokenizer.decode(ids))",
   "id": "5fcc1bb4eefbf865",
   "outputs": [
    {
     "name": "stdout",
     "output_type": "stream",
     "text": [
      "\" It' s the last he painted, you know,\" Mrs. Gisburn said with pardonable pride.\n"
     ]
    }
   ],
   "execution_count": 31
  },
  {
   "metadata": {
    "ExecuteTime": {
     "end_time": "2025-10-26T12:04:51.916025Z",
     "start_time": "2025-10-26T12:04:51.914107Z"
    }
   },
   "cell_type": "code",
   "source": "",
   "id": "6a2df5dccf3e24fa",
   "outputs": [],
   "execution_count": null
  },
  {
   "metadata": {},
   "cell_type": "code",
   "outputs": [],
   "execution_count": null,
   "source": "",
   "id": "3e1d7d7b28d73869"
  }
 ],
 "metadata": {
  "kernelspec": {
   "display_name": "Python 3",
   "language": "python",
   "name": "python3"
  },
  "language_info": {
   "codemirror_mode": {
    "name": "ipython",
    "version": 2
   },
   "file_extension": ".py",
   "mimetype": "text/x-python",
   "name": "python",
   "nbconvert_exporter": "python",
   "pygments_lexer": "ipython2",
   "version": "2.7.6"
  }
 },
 "nbformat": 4,
 "nbformat_minor": 5
}
